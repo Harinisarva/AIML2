{
  "nbformat": 4,
  "nbformat_minor": 0,
  "metadata": {
    "colab": {
      "provenance": [],
      "authorship_tag": "ABX9TyNzr8QedDw1bl6jd0K2lQ79",
      "include_colab_link": true
    },
    "kernelspec": {
      "name": "python3",
      "display_name": "Python 3"
    },
    "language_info": {
      "name": "python"
    }
  },
  "cells": [
    {
      "cell_type": "markdown",
      "metadata": {
        "id": "view-in-github",
        "colab_type": "text"
      },
      "source": [
        "<a href=\"https://colab.research.google.com/github/Harinisarva/AIML2/blob/main/assignment-5%20part-2.ipynb\" target=\"_parent\"><img src=\"https://colab.research.google.com/assets/colab-badge.svg\" alt=\"Open In Colab\"/></a>"
      ]
    },
    {
      "cell_type": "code",
      "execution_count": null,
      "metadata": {
        "id": "LydfOraGv1A1"
      },
      "outputs": [],
      "source": [
        "import pandas as pd\n",
        "import matplotlib.pyplot as plt\n",
        "import seaborn as sns\n",
        "from sklearn.model_selection import train_test_split\n",
        "from sklearn.linear_model import LogisticRegression\n",
        "from sklearn.metrics import f1_score\n",
        "from sklearn.preprocessing import StandardScaler\n",
        "\n",
        "# Fetch the Titanic dataset from the online source\n",
        "import requests\n",
        "from io import StringIO\n",
        "\n",
        "url = 'https://raw.githubusercontent.com/datasciencedojo/datasets/master/titanic.csv'\n",
        "response = requests.get(url)\n",
        "titanic_data = StringIO(response.text)\n",
        "\n",
        "# Load the dataset into a DataFrame\n",
        "df = pd.read_csv(titanic_data)\n",
        "\n",
        "# Step 1: Preprocess the Data\n",
        "\n",
        "# Drop irrelevant columns\n",
        "df = df.drop(columns=['Name', 'Ticket', 'Cabin'])\n",
        "\n",
        "# Handle missing values - fill missing Age with median and drop rows with missing Embarked or Survived\n",
        "df['Age'] = df['Age'].fillna(df['Age'].median())\n",
        "df = df.dropna(subset=['Embarked', 'Survived'])\n",
        "\n",
        "# Convert categorical columns to numeric\n",
        "df['Sex'] = df['Sex'].map({'male': 0, 'female': 1})\n",
        "df['Embarked'] = df['Embarked'].map({'C': 0, 'Q': 1, 'S': 2})\n",
        "\n",
        "# Define features (X) and target (Y)\n",
        "X = df[['Pclass', 'Sex', 'Age', 'SibSp', 'Parch', 'Fare', 'Embarked']]\n",
        "Y = df['Survived']\n",
        "\n",
        "# Step 2: Train-test split\n",
        "X_train, X_test, Y_train, Y_test = train_test_split(X, Y, test_size=0.2, random_state=42)\n",
        "\n",
        "# Standardize features (important for Logistic Regression)\n",
        "scaler = StandardScaler()\n",
        "X_train_scaled = scaler.fit_transform(X_train)\n",
        "X_test_scaled = scaler.transform(X_test)\n",
        "\n",
        "# Step 3: Apply Logistic Regression Model\n",
        "\n",
        "# Create logistic regression model with different penalties (C values)\n",
        "C_values = [0.01, 0.1, 1, 10, 100]\n",
        "f1_scores_train = []\n",
        "f1_scores_test = []\n",
        "\n",
        "for C in C_values:\n",
        "    model = LogisticRegression(C=C, max_iter=1000, random_state=42)\n",
        "\n",
        "    # Fit the model to the training data\n",
        "    model.fit(X_train_scaled, Y_train)\n",
        "\n",
        "    # Predict on training and test data\n",
        "    Y_train_pred = model.predict(X_train_scaled)\n",
        "    Y_test_pred = model.predict(X_test_scaled)\n",
        "\n",
        "    # Calculate the F1 score for both training and test data\n",
        "    f1_train = f1_score(Y_train, Y_train_pred)\n",
        "    f1_test = f1_score(Y_test, Y_test_pred)\n",
        "\n",
        "    f1_scores_train.append(f1_train)\n",
        "    f1_scores_test.append(f1_test)\n",
        "\n",
        "# Step 4: Plot F1 Scores as a Function of Penalty (C)\n",
        "\n",
        "plt.figure(figsize=(10, 6))\n",
        "plt.scatter(C_values, f1_scores_train, color='blue', label='Train F1 Score')\n",
        "plt.scatter(C_values, f1_scores_test, color='red', label='Test F1 Score')\n",
        "plt.xscale('log')  # Use a logarithmic scale for the penalty\n",
        "plt.xlabel('Penalty (C)')\n",
        "plt.ylabel('F1 Score')\n",
        "plt.title('F1 Score vs Penalty (C) for Logistic Regression')\n",
        "plt.legend()\n",
        "plt.grid(True)\n",
        "plt.show()\n",
        "\n",
        "# Optionally, print the results for reference\n",
        "print(f\"C values: {C_values}\")\n",
        "print(f\"Train F1 scores: {f1_scores_train}\")\n",
        "print(f\"Test F1 scores: {f1_scores_test}\")"
      ]
    }
  ]
}