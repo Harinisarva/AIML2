{
  "nbformat": 4,
  "nbformat_minor": 0,
  "metadata": {
    "colab": {
      "provenance": [],
      "authorship_tag": "ABX9TyMLuVg+JtVGRn7/R4043AfH",
      "include_colab_link": true
    },
    "kernelspec": {
      "name": "python3",
      "display_name": "Python 3"
    },
    "language_info": {
      "name": "python"
    }
  },
  "cells": [
    {
      "cell_type": "markdown",
      "metadata": {
        "id": "view-in-github",
        "colab_type": "text"
      },
      "source": [
        "<a href=\"https://colab.research.google.com/github/Harinisarva/AIML2/blob/main/lab%20exam.ipynb\" target=\"_parent\"><img src=\"https://colab.research.google.com/assets/colab-badge.svg\" alt=\"Open In Colab\"/></a>"
      ]
    },
    {
      "cell_type": "markdown",
      "source": [
        "Prediction of Startup Opportunities in Turkish Business Q1. Identify the Top-10 Startups in Turkey Q2. Find the Max and Min crowdsourced funding obtained by Turkey Q3.Name the gender which has acquired the most funding for Startups Q4.Identify the Top-5 cities where startup is most Q5.Name the Top-5 technologies popular in Turkish startups. Q6. Apply either Classification or Clustering or Regression Model and evaluate the accuracy, error metrics of the model."
      ],
      "metadata": {
        "id": "HPJuRcBI4Vq_"
      }
    },
    {
      "cell_type": "code",
      "source": [
        "import pandas as pd\n",
        "\n",
        "# Load the CSV file\n",
        "data = pd.read_csv('turkey_startups.csv')  # Ensure the file path is correct\n",
        "\n",
        "# Check if the necessary columns exist\n",
        "if 'Startup Name' in data.columns and 'Funding' in data.columns:\n",
        "    # Sort the startups by funding in descending order\n",
        "    top_10_startups = data.sort_values(by='Funding', ascending=False).head(10)\n",
        "    print(\"Top 10 Startups in Turkey:\")\n",
        "    print(top_10_startups[['Startup Name', 'Funding']])\n",
        "else:\n",
        "    print(\"Error: Required columns 'Startup Name' and 'Funding' are missing from the dataset.\")\n",
        "\n"
      ],
      "metadata": {
        "colab": {
          "base_uri": "https://localhost:8080/"
        },
        "id": "rUKZVAiz4WrU",
        "outputId": "ec74ebfa-ef69-44b5-966a-b4f843700a26"
      },
      "execution_count": 7,
      "outputs": [
        {
          "output_type": "stream",
          "name": "stdout",
          "text": [
            "Top 10 Startups in Turkey:\n",
            "  Startup Name  Funding\n",
            "3    Startup D  1000000\n",
            "6    Startup G   900000\n",
            "9    Startup J   800000\n",
            "1    Startup B   750000\n",
            "0    Startup A   500000\n",
            "5    Startup F   400000\n",
            "4    Startup E   300000\n",
            "8    Startup I   250000\n",
            "2    Startup C   200000\n",
            "7    Startup H   150000\n"
          ]
        }
      ]
    },
    {
      "cell_type": "code",
      "source": [
        "# Filter for crowdsourced funding entries\n",
        "crowdsourced_funding = data[data['Funding Type'] == 'Crowdsourced']\n",
        "\n",
        "# Calculate max and min funding\n",
        "max_funding = crowdsourced_funding['Funding'].max()\n",
        "min_funding = crowdsourced_funding['Funding'].min()\n",
        "\n",
        "print(f\"Max Crowdsourced Funding: {max_funding}\")\n",
        "print(f\"Min Crowdsourced Funding: {min_funding}\")\n"
      ],
      "metadata": {
        "colab": {
          "base_uri": "https://localhost:8080/"
        },
        "id": "tTjOpKM_4aME",
        "outputId": "410b3937-795b-4d2d-ef48-66ccad3e3544"
      },
      "execution_count": 8,
      "outputs": [
        {
          "output_type": "stream",
          "name": "stdout",
          "text": [
            "Max Crowdsourced Funding: 500000\n",
            "Min Crowdsourced Funding: 150000\n"
          ]
        }
      ]
    },
    {
      "cell_type": "code",
      "source": [
        "# Group data by gender and calculate total funding\n",
        "gender_funding = data.groupby('Founder Gender')['Funding'].sum()\n",
        "\n",
        "# Find the gender with the maximum funding\n",
        "most_funding_gender = gender_funding.idxmax()\n",
        "\n",
        "print(f\"Gender with Most Funding: {most_funding_gender}\")\n"
      ],
      "metadata": {
        "colab": {
          "base_uri": "https://localhost:8080/"
        },
        "id": "Wp_U8HMW4cjw",
        "outputId": "154b124e-dac9-45e7-d696-06a9c383903e"
      },
      "execution_count": 9,
      "outputs": [
        {
          "output_type": "stream",
          "name": "stdout",
          "text": [
            "Gender with Most Funding: Male\n"
          ]
        }
      ]
    },
    {
      "cell_type": "code",
      "source": [
        "# Count startups by city\n",
        "city_startup_counts = data['City'].value_counts().head(5)\n",
        "\n",
        "print(\"Top 5 Cities with Most Startups:\")\n",
        "print(city_startup_counts)\n"
      ],
      "metadata": {
        "colab": {
          "base_uri": "https://localhost:8080/"
        },
        "id": "OXmL5MxL4fAl",
        "outputId": "a0fed600-bceb-4bc1-ec96-7b9c7c99ce23"
      },
      "execution_count": 10,
      "outputs": [
        {
          "output_type": "stream",
          "name": "stdout",
          "text": [
            "Top 5 Cities with Most Startups:\n",
            "City\n",
            "Istanbul    4\n",
            "Ankara      2\n",
            "Izmir       2\n",
            "Bursa       1\n",
            "Antalya     1\n",
            "Name: count, dtype: int64\n"
          ]
        }
      ]
    },
    {
      "cell_type": "code",
      "source": [
        "from collections import Counter\n",
        "\n",
        "# Extract technologies (assuming a column with a list of technologies per startup)\n",
        "technologies = data['Technologies'].str.split(',').explode()\n",
        "\n",
        "# Count the frequency of each technology\n",
        "top_5_technologies = Counter(technologies).most_common(5)\n",
        "\n",
        "print(\"Top 5 Popular Technologies in Turkish Startups:\")\n",
        "for tech, count in top_5_technologies:\n",
        "    print(f\"{tech}: {count}\")\n"
      ],
      "metadata": {
        "colab": {
          "base_uri": "https://localhost:8080/"
        },
        "id": "2ttXR-kJ4hBd",
        "outputId": "21fae6c2-3f5a-4dd0-de8d-6f6bbe9f09eb"
      },
      "execution_count": 11,
      "outputs": [
        {
          "output_type": "stream",
          "name": "stdout",
          "text": [
            "Top 5 Popular Technologies in Turkish Startups:\n",
            "E-commerce: 3\n",
            " IoT: 3\n",
            "AI: 2\n",
            " Fintech: 2\n",
            "Healthtech: 2\n"
          ]
        }
      ]
    },
    {
      "cell_type": "code",
      "source": [
        "from sklearn.model_selection import train_test_split\n",
        "from sklearn.linear_model import LinearRegression\n",
        "from sklearn.metrics import mean_absolute_error, mean_squared_error, r2_score\n",
        "import numpy as np\n",
        "\n",
        "# Prepare data (ensure relevant features are numeric)\n",
        "X = data[['Employees', 'Years in Operation', 'City Rank']]  # Replace with actual predictors\n",
        "y = data['Funding']\n",
        "\n",
        "# Split data\n",
        "X_train, X_test, y_train, y_test = train_test_split(X, y, test_size=0.2, random_state=42)\n",
        "\n",
        "# Train the model\n",
        "model = LinearRegression()\n",
        "model.fit(X_train, y_train)\n",
        "\n",
        "# Predict on test set\n",
        "y_pred = model.predict(X_test)\n",
        "\n",
        "# Evaluate the model\n",
        "mae = mean_absolute_error(y_test, y_pred)\n",
        "mse = mean_squared_error(y_test, y_pred)\n",
        "rmse = np.sqrt(mse)\n",
        "r2 = r2_score(y_test, y_pred)\n",
        "\n",
        "print(\"Regression Model Performance:\")\n",
        "print(f\"MAE: {mae}, MSE: {mse}, RMSE: {rmse}, R^2: {r2}\")\n"
      ],
      "metadata": {
        "colab": {
          "base_uri": "https://localhost:8080/"
        },
        "id": "mWeCHsgC4lwi",
        "outputId": "11239625-108b-460c-9a1f-cb85981fdefb"
      },
      "execution_count": 12,
      "outputs": [
        {
          "output_type": "stream",
          "name": "stdout",
          "text": [
            "Regression Model Performance:\n",
            "MAE: 348864.4240492817, MSE: 150849698540.5849, RMSE: 388393.7416341629, R^2: -1.4135951766493582\n"
          ]
        }
      ]
    }
  ]
}