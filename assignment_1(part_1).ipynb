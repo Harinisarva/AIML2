{
  "nbformat": 4,
  "nbformat_minor": 0,
  "metadata": {
    "colab": {
      "provenance": [],
      "authorship_tag": "ABX9TyN/0EVHFh40m6X17Cp8GOhf",
      "include_colab_link": true
    },
    "kernelspec": {
      "name": "python3",
      "display_name": "Python 3"
    },
    "language_info": {
      "name": "python"
    }
  },
  "cells": [
    {
      "cell_type": "markdown",
      "metadata": {
        "id": "view-in-github",
        "colab_type": "text"
      },
      "source": [
        "<a href=\"https://colab.research.google.com/github/Harinisarva/AIML2/blob/main/assignment_1(part_1).ipynb\" target=\"_parent\"><img src=\"https://colab.research.google.com/assets/colab-badge.svg\" alt=\"Open In Colab\"/></a>"
      ]
    },
    {
      "cell_type": "code",
      "execution_count": null,
      "metadata": {
        "colab": {
          "base_uri": "https://localhost:8080/"
        },
        "id": "T9PRiaLJKEdr",
        "outputId": "bc5b9cb9-d9e7-474c-caea-c0c3331d450d"
      },
      "outputs": [
        {
          "output_type": "stream",
          "name": "stdout",
          "text": [
            "1.1\n",
            "[3 5 7 8]\n"
          ]
        }
      ],
      "source": [
        "#implementing list using numpy\n",
        "import numpy as np\n",
        "print(1.1)\n",
        "list=np.array([3, 5, 7, 8])\n",
        "print(list)"
      ]
    },
    {
      "cell_type": "code",
      "source": [
        "#implementing array using numpy\n",
        "import numpy as np\n",
        "print(1.2)\n",
        "array=np.array([3, 0, 3, 2, 1, 6, 2, 8])\n",
        "print(\"Array: \",array)"
      ],
      "metadata": {
        "colab": {
          "base_uri": "https://localhost:8080/"
        },
        "id": "BJ1d-bUNKK1R",
        "outputId": "c63076d2-e949-40d0-f12f-2bdbb87905ca"
      },
      "execution_count": null,
      "outputs": [
        {
          "output_type": "stream",
          "name": "stdout",
          "text": [
            "1.2\n",
            "Array:  [3 0 3 2 1 6 2 8]\n"
          ]
        }
      ]
    },
    {
      "cell_type": "code",
      "source": [
        "#implementing type() using numpy\n",
        "import numpy as np\n",
        "print(1.3)\n",
        "array_1D=np.array([1, 2, 3, 4, 5])\n",
        "print(\"1D Array Type: \",type(array_1D))"
      ],
      "metadata": {
        "colab": {
          "base_uri": "https://localhost:8080/"
        },
        "id": "RMIPVbMGKP4c",
        "outputId": "4586543c-3bb8-4fa0-91f1-2bca2c85c843"
      },
      "execution_count": null,
      "outputs": [
        {
          "output_type": "stream",
          "name": "stdout",
          "text": [
            "1.3\n",
            "1D Array Type:  <class 'numpy.ndarray'>\n"
          ]
        }
      ]
    },
    {
      "cell_type": "code",
      "source": [
        "from __future__ import division\n",
        "#Performing mathematical operations\n",
        "import numpy as np\n",
        "print(1.4)\n",
        "a=np.array([3, 8, 9, 8])\n",
        "b=np.array([1, 2, 3, 4])\n",
        "#Multiplication\n",
        "multiply=np.multiply(a, b)\n",
        "print(multiply)\n",
        "#Division\n",
        "division=np.divide(a, b)\n",
        "print(division)\n",
        "#poweroff\n",
        "power=np.power(a, b)\n",
        "print(power)"
      ],
      "metadata": {
        "colab": {
          "base_uri": "https://localhost:8080/"
        },
        "id": "wUG0RZtrLGsj",
        "outputId": "c7870282-d728-41fe-a980-342ac732e6ac"
      },
      "execution_count": null,
      "outputs": [
        {
          "output_type": "stream",
          "name": "stdout",
          "text": [
            "1.4\n",
            "[ 3 16 27 32]\n",
            "[3. 4. 3. 2.]\n",
            "[   3   64  729 4096]\n"
          ]
        }
      ]
    },
    {
      "cell_type": "code",
      "source": [
        "#Addition of Two arrays\n",
        "import numpy as np\n",
        "print(1.5)\n",
        "arr1=np.array([1, 6, 2, 6])\n",
        "arr2=np.array([3, 5, 7, 8])\n",
        "addition=arr1+arr2\n",
        "print(addition)"
      ],
      "metadata": {
        "colab": {
          "base_uri": "https://localhost:8080/"
        },
        "id": "UwjulPE8LKvH",
        "outputId": "0b9b7660-84ee-4693-bc31-725b136b57f3"
      },
      "execution_count": null,
      "outputs": [
        {
          "output_type": "stream",
          "name": "stdout",
          "text": [
            "1.5\n",
            "[ 4 11  9 14]\n"
          ]
        }
      ]
    },
    {
      "cell_type": "code",
      "source": [
        "#implement np.sin(), log(), np.exp(), log2()\n",
        "import numpy as np\n",
        "print(1.6)\n",
        "a = np.array([1,2,3])\n",
        "sin = np.sin(a)\n",
        "print(sin)\n",
        "log = np.log(a)\n",
        "print(log)\n",
        "exp = np.exp(a)\n",
        "print(exp)\n",
        "log2 = np.log2(a)\n",
        "print(log2)"
      ],
      "metadata": {
        "colab": {
          "base_uri": "https://localhost:8080/"
        },
        "id": "df-pigTTLOKS",
        "outputId": "cc110d0f-2134-4c79-d8c1-4aacb041bd32"
      },
      "execution_count": null,
      "outputs": [
        {
          "output_type": "stream",
          "name": "stdout",
          "text": [
            "1.6\n",
            "[0.84147098 0.90929743 0.14112001]\n",
            "[0.         0.69314718 1.09861229]\n",
            "[ 2.71828183  7.3890561  20.08553692]\n",
            "[0.        1.        1.5849625]\n"
          ]
        }
      ]
    }
  ]
}